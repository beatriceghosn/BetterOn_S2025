{
 "cells": [
  {
   "cell_type": "code",
   "execution_count": 31,
   "id": "a88dc36a-1674-4b7e-90ca-4ae98793b6f4",
   "metadata": {},
   "outputs": [],
   "source": [
    "import numpy as np\n",
    "from matplotlib import pyplot as plt\n",
    "import seaborn as sns\n",
    "import pandas as pd\n",
    "import re"
   ]
  },
  {
   "cell_type": "code",
   "execution_count": 53,
   "id": "d634aedb-65ca-4f28-8eda-633eaa1a06b6",
   "metadata": {},
   "outputs": [],
   "source": [
    "df = pd.read_csv('Intake-Surveys_Feb25.csv')"
   ]
  },
  {
   "cell_type": "code",
   "execution_count": 33,
   "id": "86d72c83-4ef3-493e-83a2-afaa70b1c813",
   "metadata": {},
   "outputs": [
    {
     "data": {
      "text/plain": [
       "['Connect to my audience when recording',\n",
       " 'Elicit a variety of emotions',\n",
       " 'Empowers me personally',\n",
       " 'Empowers me professionally',\n",
       " 'English native language',\n",
       " 'Familiar with power of presence',\n",
       " 'First Name']"
      ]
     },
     "execution_count": 33,
     "metadata": {},
     "output_type": "execute_result"
    }
   ],
   "source": [
    "list(df.columns)"
   ]
  },
  {
   "cell_type": "code",
   "execution_count": 34,
   "id": "a9371c04-4b2b-4ff2-8e1b-80ef6823b23b",
   "metadata": {},
   "outputs": [
    {
     "data": {
      "text/html": [
       "<div>\n",
       "<style scoped>\n",
       "    .dataframe tbody tr th:only-of-type {\n",
       "        vertical-align: middle;\n",
       "    }\n",
       "\n",
       "    .dataframe tbody tr th {\n",
       "        vertical-align: top;\n",
       "    }\n",
       "\n",
       "    .dataframe thead th {\n",
       "        text-align: right;\n",
       "    }\n",
       "</style>\n",
       "<table border=\"1\" class=\"dataframe\">\n",
       "  <thead>\n",
       "    <tr style=\"text-align: right;\">\n",
       "      <th></th>\n",
       "      <th>Connect to my audience when recording</th>\n",
       "      <th>Elicit a variety of emotions</th>\n",
       "      <th>Empowers me personally</th>\n",
       "      <th>Empowers me professionally</th>\n",
       "      <th>English native language</th>\n",
       "      <th>Familiar with power of presence</th>\n",
       "      <th>First Name</th>\n",
       "    </tr>\n",
       "  </thead>\n",
       "  <tbody>\n",
       "    <tr>\n",
       "      <th>3</th>\n",
       "      <td>3 - Pretty familiar</td>\n",
       "      <td>3 - Pretty familiar</td>\n",
       "      <td>3 - Pretty familiar</td>\n",
       "      <td>4 - Absolutely!</td>\n",
       "      <td>Yes</td>\n",
       "      <td>3 - Pretty familiar</td>\n",
       "      <td>Tahjae</td>\n",
       "    </tr>\n",
       "    <tr>\n",
       "      <th>4</th>\n",
       "      <td>1 - Not so much.</td>\n",
       "      <td>1 - Not so much.</td>\n",
       "      <td>1 - Not so much.</td>\n",
       "      <td>1 - Not so much.</td>\n",
       "      <td>Yes</td>\n",
       "      <td>2- Somewhat.</td>\n",
       "      <td>Kristian</td>\n",
       "    </tr>\n",
       "    <tr>\n",
       "      <th>5</th>\n",
       "      <td>2- Somewhat.</td>\n",
       "      <td>2- Somewhat.</td>\n",
       "      <td>4 - Absolutely!</td>\n",
       "      <td>4 - Absolutely!</td>\n",
       "      <td>Yes</td>\n",
       "      <td>3 - Pretty familiar</td>\n",
       "      <td>Mae</td>\n",
       "    </tr>\n",
       "    <tr>\n",
       "      <th>6</th>\n",
       "      <td>1 - Not so much.</td>\n",
       "      <td>1 - Not so much.</td>\n",
       "      <td>2- Somewhat.</td>\n",
       "      <td>2- Somewhat.</td>\n",
       "      <td>Yes</td>\n",
       "      <td>2- Somewhat.</td>\n",
       "      <td>Georgina</td>\n",
       "    </tr>\n",
       "    <tr>\n",
       "      <th>7</th>\n",
       "      <td>2- Somewhat.</td>\n",
       "      <td>2- Somewhat.</td>\n",
       "      <td>2- Somewhat.</td>\n",
       "      <td>2- Somewhat.</td>\n",
       "      <td>Yes</td>\n",
       "      <td>3 - Pretty familiar</td>\n",
       "      <td>Emmanuel</td>\n",
       "    </tr>\n",
       "    <tr>\n",
       "      <th>...</th>\n",
       "      <td>...</td>\n",
       "      <td>...</td>\n",
       "      <td>...</td>\n",
       "      <td>...</td>\n",
       "      <td>...</td>\n",
       "      <td>...</td>\n",
       "      <td>...</td>\n",
       "    </tr>\n",
       "    <tr>\n",
       "      <th>406</th>\n",
       "      <td>2- Somewhat.</td>\n",
       "      <td>2- Somewhat.</td>\n",
       "      <td>4 - Absolutely!</td>\n",
       "      <td>4 - Absolutely!</td>\n",
       "      <td>No</td>\n",
       "      <td>3 - Pretty familiar</td>\n",
       "      <td>Carlos</td>\n",
       "    </tr>\n",
       "    <tr>\n",
       "      <th>407</th>\n",
       "      <td>2- Somewhat.</td>\n",
       "      <td>2- Somewhat.</td>\n",
       "      <td>2- Somewhat.</td>\n",
       "      <td>2- Somewhat.</td>\n",
       "      <td>Yes</td>\n",
       "      <td>2- Somewhat.</td>\n",
       "      <td>Patrick</td>\n",
       "    </tr>\n",
       "    <tr>\n",
       "      <th>408</th>\n",
       "      <td>3 - Pretty familiar</td>\n",
       "      <td>2- Somewhat.</td>\n",
       "      <td>2- Somewhat.</td>\n",
       "      <td>2- Somewhat.</td>\n",
       "      <td>Yes</td>\n",
       "      <td>3 - Pretty familiar</td>\n",
       "      <td>Howard</td>\n",
       "    </tr>\n",
       "    <tr>\n",
       "      <th>409</th>\n",
       "      <td>2- Somewhat.</td>\n",
       "      <td>3 - Pretty familiar</td>\n",
       "      <td>3 - Pretty familiar</td>\n",
       "      <td>3 - Pretty familiar</td>\n",
       "      <td>No</td>\n",
       "      <td>2- Somewhat.</td>\n",
       "      <td>Chandana</td>\n",
       "    </tr>\n",
       "    <tr>\n",
       "      <th>410</th>\n",
       "      <td>1 - Not so much.</td>\n",
       "      <td>2- Somewhat.</td>\n",
       "      <td>3 - Pretty familiar</td>\n",
       "      <td>3 - Pretty familiar</td>\n",
       "      <td>Yes</td>\n",
       "      <td>2- Somewhat.</td>\n",
       "      <td>ripal</td>\n",
       "    </tr>\n",
       "  </tbody>\n",
       "</table>\n",
       "<p>408 rows × 7 columns</p>\n",
       "</div>"
      ],
      "text/plain": [
       "    Connect to my audience when recording Elicit a variety of emotions  \\\n",
       "3                     3 - Pretty familiar          3 - Pretty familiar   \n",
       "4                        1 - Not so much.             1 - Not so much.   \n",
       "5                            2- Somewhat.                 2- Somewhat.   \n",
       "6                        1 - Not so much.             1 - Not so much.   \n",
       "7                            2- Somewhat.                 2- Somewhat.   \n",
       "..                                    ...                          ...   \n",
       "406                          2- Somewhat.                 2- Somewhat.   \n",
       "407                          2- Somewhat.                 2- Somewhat.   \n",
       "408                   3 - Pretty familiar                 2- Somewhat.   \n",
       "409                          2- Somewhat.          3 - Pretty familiar   \n",
       "410                      1 - Not so much.                 2- Somewhat.   \n",
       "\n",
       "    Empowers me personally Empowers me professionally English native language  \\\n",
       "3      3 - Pretty familiar            4 - Absolutely!                     Yes   \n",
       "4         1 - Not so much.           1 - Not so much.                     Yes   \n",
       "5          4 - Absolutely!            4 - Absolutely!                     Yes   \n",
       "6             2- Somewhat.               2- Somewhat.                     Yes   \n",
       "7             2- Somewhat.               2- Somewhat.                     Yes   \n",
       "..                     ...                        ...                     ...   \n",
       "406        4 - Absolutely!            4 - Absolutely!                      No   \n",
       "407           2- Somewhat.               2- Somewhat.                     Yes   \n",
       "408           2- Somewhat.               2- Somewhat.                     Yes   \n",
       "409    3 - Pretty familiar        3 - Pretty familiar                      No   \n",
       "410    3 - Pretty familiar        3 - Pretty familiar                     Yes   \n",
       "\n",
       "    Familiar with power of presence First Name  \n",
       "3               3 - Pretty familiar     Tahjae  \n",
       "4                      2- Somewhat.   Kristian  \n",
       "5               3 - Pretty familiar        Mae  \n",
       "6                      2- Somewhat.   Georgina  \n",
       "7               3 - Pretty familiar   Emmanuel  \n",
       "..                              ...        ...  \n",
       "406             3 - Pretty familiar     Carlos  \n",
       "407                    2- Somewhat.    Patrick  \n",
       "408             3 - Pretty familiar     Howard  \n",
       "409                    2- Somewhat.   Chandana  \n",
       "410                    2- Somewhat.      ripal  \n",
       "\n",
       "[408 rows x 7 columns]"
      ]
     },
     "execution_count": 34,
     "metadata": {},
     "output_type": "execute_result"
    }
   ],
   "source": [
    "df = df[3:]\n",
    "df"
   ]
  },
  {
   "cell_type": "code",
   "execution_count": 35,
   "id": "1b8b35ad-da11-4177-bd7e-093aaff598cc",
   "metadata": {},
   "outputs": [],
   "source": [
    "df.rename(columns={'Connect to my audience when recording': 'Connect'}, inplace=True)\n",
    "df.rename(columns={'Elicit a variety of emotions': 'Emotions'}, inplace=True)\n",
    "df.rename(columns={'Empowers me personally': 'Empower Personal'}, inplace=True)\n",
    "df.rename(columns={'Empowers me professionally': 'Empower Professionally'}, inplace=True)\n",
    "df.rename(columns={'Familiar with power of presence': 'Presence'}, inplace=True)\n",
    "df.rename(columns={'Headspace to record my message': 'Headspace'}, inplace=True)"
   ]
  },
  {
   "cell_type": "code",
   "execution_count": 36,
   "id": "a47721cc-afa5-4465-86e7-730326fb2adb",
   "metadata": {},
   "outputs": [
    {
     "data": {
      "text/plain": [
       "['Connect',\n",
       " 'Emotions',\n",
       " 'Empower Personal',\n",
       " 'Empower Professionally',\n",
       " 'English native language',\n",
       " 'Presence',\n",
       " 'First Name']"
      ]
     },
     "execution_count": 36,
     "metadata": {},
     "output_type": "execute_result"
    }
   ],
   "source": [
    "list(df.columns)"
   ]
  },
  {
   "cell_type": "code",
   "execution_count": 37,
   "id": "c2ff8907-d471-4290-9555-bd930d9c404c",
   "metadata": {},
   "outputs": [],
   "source": [
    "def extract_number(s):\n",
    "    if isinstance(s, str):\n",
    "        match = re.match(r\"(\\d+)\", s)\n",
    "        return int(match.group(1))\n",
    "    return None"
   ]
  },
  {
   "cell_type": "code",
   "execution_count": 38,
   "id": "142bc65e-0284-429f-a5dd-fdde7f117c55",
   "metadata": {},
   "outputs": [],
   "source": [
    "columns_to_clean = [\"Connect\", \"Emotions\", \"Empower Personal\", \"Empower Professionally\", \"Presence\"]"
   ]
  },
  {
   "cell_type": "code",
   "execution_count": 39,
   "id": "92ba2b4c-aedf-4f01-8848-b42e76365048",
   "metadata": {},
   "outputs": [],
   "source": [
    "for col in columns_to_clean:\n",
    "    df[col] = df[col].apply(extract_number)"
   ]
  },
  {
   "cell_type": "code",
   "execution_count": 44,
   "id": "43568e3c-470d-45e6-bef4-f070d53c4ddd",
   "metadata": {},
   "outputs": [
    {
     "data": {
      "text/plain": [
       "Connect                   1.849246\n",
       "Emotions                  1.992424\n",
       "Empower Personal          2.105793\n",
       "Empower Professionally    2.193955\n",
       "Presence                  2.140704\n",
       "dtype: float64"
      ]
     },
     "execution_count": 44,
     "metadata": {},
     "output_type": "execute_result"
    }
   ],
   "source": [
    "means = df[columns_to_clean].mean()\n",
    "means"
   ]
  },
  {
   "cell_type": "code",
   "execution_count": 49,
   "id": "a232ed54-2880-4d2f-8a58-0dac06b55c65",
   "metadata": {},
   "outputs": [
    {
     "data": {
      "text/plain": [
       "(0.0, 5.0)"
      ]
     },
     "execution_count": 49,
     "metadata": {},
     "output_type": "execute_result"
    },
    {
     "data": {
      "image/png": "[encoded data removed]",
      "text/plain": [
       "<Figure size 640x480 with 1 Axes>"
      ]
     },
     "metadata": {},
     "output_type": "display_data"
    }
   ],
   "source": [
    "sns.barplot(x=means.index, y=means.values)\n",
    "plt.xlabel(\"Survey Categories\")\n",
    "plt.ylabel(\"Average Score\")\n",
    "plt.title(\"Average Survey Responses\")\n",
    "plt.xticks(rotation=45)\n",
    "plt.ylim(0, 5)"
   ]
  }
 ],
 "metadata": {
  "kernelspec": {
   "display_name": "Python 3 (ipykernel)",
   "language": "python",
   "name": "python3"
  },
  "language_info": {
   "codemirror_mode": {
    "name": "ipython",
    "version": 3
   },
   "file_extension": ".py",
   "mimetype": "text/x-python",
   "name": "python",
   "nbconvert_exporter": "python",
   "pygments_lexer": "ipython3",
   "version": "3.12.7"
  }
 },
 "nbformat": 4,
 "nbformat_minor": 5
}
