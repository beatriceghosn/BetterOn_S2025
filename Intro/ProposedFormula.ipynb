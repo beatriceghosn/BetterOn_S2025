{
 "cells": [
  {
   "cell_type": "code",
   "execution_count": 9,
   "id": "585fb148-4baf-4c1f-8871-677fb5c327b5",
   "metadata": {},
   "outputs": [],
   "source": [
    "import numpy as np\n",
    "from matplotlib import pyplot as plt\n",
    "import seaborn as sns\n",
    "import pandas as pd\n",
    "import re"
   ]
  },
  {
   "cell_type": "code",
   "execution_count": 11,
   "id": "a4018240-b5a1-48b6-8450-6101899bad98",
   "metadata": {},
   "outputs": [],
   "source": [
    "df_takes = pd.read_csv('../../Takes_Feb25.csv')\n",
    "df_watch = pd.read_csv('../../Watch-Data_Feb25.csv')"
   ]
  },
  {
   "cell_type": "code",
   "execution_count": 13,
   "id": "d522c815-82e6-40b5-86d8-61351a3ba384",
   "metadata": {},
   "outputs": [],
   "source": [
    "df_intake = pd.read_csv('../../Intake-Surveys_Feb25.csv')\n",
    "df_post = pd.read_csv('../../Post-Surveys_Feb25.csv')"
   ]
  },
  {
   "cell_type": "code",
   "execution_count": 23,
   "id": "5c7d1392-8807-4b51-87bc-00979309345a",
   "metadata": {},
   "outputs": [],
   "source": [
    "df_takes.groupby('Cohort')\n",
    "df_takes.groupby('Assignment')\n",
    "df_takes = df_takes.dropna(subset=['Take Length'])"
   ]
  },
  {
   "cell_type": "code",
   "execution_count": 27,
   "id": "df095773-c3fc-4fa4-884f-3bbfee3b64ba",
   "metadata": {},
   "outputs": [
    {
     "name": "stderr",
     "output_type": "stream",
     "text": [
      "/var/folders/1w/hq9s5gxs7gs8czfbrbsb7nqc0000gn/T/ipykernel_38964/2185377046.py:1: SettingWithCopyWarning: \n",
      "A value is trying to be set on a copy of a slice from a DataFrame.\n",
      "Try using .loc[row_indexer,col_indexer] = value instead\n",
      "\n",
      "See the caveats in the documentation: https://pandas.pydata.org/pandas-docs/stable/user_guide/indexing.html#returning-a-view-versus-a-copy\n",
      "  df_takes[\"BigOutliers\"] = df_takes[\"Take Length\"] > (85 + (1.5*(85-17)))\n"
     ]
    },
    {
     "data": {
      "text/plain": [
       "425"
      ]
     },
     "execution_count": 27,
     "metadata": {},
     "output_type": "execute_result"
    }
   ],
   "source": [
    "df_takes[\"BigOutliers\"] = df_takes[\"Take Length\"] > (85 + (1.5*(85-17)))\n",
    "\n",
    "df_takes[\"BigOutliers\"]\n",
    "\n",
    "outlier_count = df_takes[\"BigOutliers\"].sum()\n",
    "\n",
    "outlier_count"
   ]
  },
  {
   "cell_type": "code",
   "execution_count": 29,
   "id": "748b7913-1533-4bbc-a0e9-c49a10ab4508",
   "metadata": {},
   "outputs": [
    {
     "name": "stdout",
     "output_type": "stream",
     "text": [
      "3691\n",
      "Cohort\n",
      "ALDE 2024                               77.673846\n",
      "ALDE 2024 #2                            67.788122\n",
      "BetterOn Going Custom                  100.100000\n",
      "BetterOn Your Own                       33.145679\n",
      "BetterOn for Interviews                 14.666667\n",
      "CTO's '24-'25                           83.305263\n",
      "Corporate Academy September '24         64.352518\n",
      "DELD 2023                               71.609467\n",
      "ELA 2023                                62.688312\n",
      "Executive Presence Studio               70.947500\n",
      "Executive Presence Studio - Feb '25     82.230769\n",
      "February 2024                           60.115789\n",
      "February/March 2025                     78.719512\n",
      "Greenhouse Presence Bootcamp            68.663498\n",
      "June 2024                               57.722928\n",
      "June 2024 Pilot                         70.458564\n",
      "New Recorder Cohort                     72.066667\n",
      "RTP Authentic Presence Training        104.500000\n",
      "Red Hat Cloud Partners Team             64.947743\n",
      "Session 1                               75.840000\n",
      "Name: Take Length, dtype: float64\n"
     ]
    },
    {
     "name": "stderr",
     "output_type": "stream",
     "text": [
      "/var/folders/1w/hq9s5gxs7gs8czfbrbsb7nqc0000gn/T/ipykernel_38964/2346923463.py:6: SettingWithCopyWarning: \n",
      "A value is trying to be set on a copy of a slice from a DataFrame.\n",
      "Try using .loc[row_indexer,col_indexer] = value instead\n",
      "\n",
      "See the caveats in the documentation: https://pandas.pydata.org/pandas-docs/stable/user_guide/indexing.html#returning-a-view-versus-a-copy\n",
      "  df_takes[\"overmean\"] = df_takes[\"Take Length\"] > (63)\n",
      "/var/folders/1w/hq9s5gxs7gs8czfbrbsb7nqc0000gn/T/ipykernel_38964/2346923463.py:10: SettingWithCopyWarning: \n",
      "A value is trying to be set on a copy of a slice from a DataFrame.\n",
      "Try using .loc[row_indexer,col_indexer] = value instead\n",
      "\n",
      "See the caveats in the documentation: https://pandas.pydata.org/pandas-docs/stable/user_guide/indexing.html#returning-a-view-versus-a-copy\n",
      "  df_takes[\"Cohort\"] = df_takes[\"Cohort\"].astype(str)  # Ensure it's categorical\n",
      "/var/folders/1w/hq9s5gxs7gs8czfbrbsb7nqc0000gn/T/ipykernel_38964/2346923463.py:11: SettingWithCopyWarning: \n",
      "A value is trying to be set on a copy of a slice from a DataFrame.\n",
      "Try using .loc[row_indexer,col_indexer] = value instead\n",
      "\n",
      "See the caveats in the documentation: https://pandas.pydata.org/pandas-docs/stable/user_guide/indexing.html#returning-a-view-versus-a-copy\n",
      "  df_takes[\"Take Length\"] = pd.to_numeric(df_takes[\"Take Length\"], errors=\"coerce\")  # Convert values to numbers\n"
     ]
    }
   ],
   "source": [
    "#Brainstorm for Formula\n",
    "#over mean - building leaderboard based on number of minutes for takes\n",
    "#Could weigh the take time with how many instances of participant in watch\n",
    "#could also use activity?\n",
    "#Group means and over means based on assignment and cohort to avoid any disparities in data\n",
    "df_takes[\"overmean\"] = df_takes[\"Take Length\"] > (63)\n",
    "overMean = df_takes[\"overmean\"].sum()\n",
    "print(overMean) #3691 - now need to split by cohort\n",
    "\n",
    "df_takes[\"Cohort\"] = df_takes[\"Cohort\"].astype(str)  # Ensure it's categorical\n",
    "df_takes[\"Take Length\"] = pd.to_numeric(df_takes[\"Take Length\"], errors=\"coerce\")  # Convert values to numbers\n",
    "mean_by_cohort = df_takes.groupby(\"Cohort\")[\"Take Length\"].mean()\n",
    "print(mean_by_cohort)"
   ]
  },
  {
   "cell_type": "code",
   "execution_count": 32,
   "id": "d5827dd9-bbbe-4a33-8e49-9d1f8bf7ea9e",
   "metadata": {},
   "outputs": [
    {
     "name": "stderr",
     "output_type": "stream",
     "text": [
      "/var/folders/1w/hq9s5gxs7gs8czfbrbsb7nqc0000gn/T/ipykernel_38964/3290375313.py:2: SettingWithCopyWarning: \n",
      "A value is trying to be set on a copy of a slice from a DataFrame.\n",
      "Try using .loc[row_indexer,col_indexer] = value instead\n",
      "\n",
      "See the caveats in the documentation: https://pandas.pydata.org/pandas-docs/stable/user_guide/indexing.html#returning-a-view-versus-a-copy\n",
      "  df_takes[\"abovemean\"] = df_takes.apply(lambda row: row[\"Take Length\"] > mean_by_cohort[row[\"Cohort\"]], axis=1)\n",
      "/var/folders/1w/hq9s5gxs7gs8czfbrbsb7nqc0000gn/T/ipykernel_38964/3290375313.py:3: SettingWithCopyWarning: \n",
      "A value is trying to be set on a copy of a slice from a DataFrame.\n",
      "Try using .loc[row_indexer,col_indexer] = value instead\n",
      "\n",
      "See the caveats in the documentation: https://pandas.pydata.org/pandas-docs/stable/user_guide/indexing.html#returning-a-view-versus-a-copy\n",
      "  df_takes[\"abovemean\"] = df_takes[\"abovemean\"].astype(int)\n"
     ]
    },
    {
     "data": {
      "text/html": [
       "<div>\n",
       "<style scoped>\n",
       "    .dataframe tbody tr th:only-of-type {\n",
       "        vertical-align: middle;\n",
       "    }\n",
       "\n",
       "    .dataframe tbody tr th {\n",
       "        vertical-align: top;\n",
       "    }\n",
       "\n",
       "    .dataframe thead th {\n",
       "        text-align: right;\n",
       "    }\n",
       "</style>\n",
       "<table border=\"1\" class=\"dataframe\">\n",
       "  <thead>\n",
       "    <tr style=\"text-align: right;\">\n",
       "      <th></th>\n",
       "      <th>Category</th>\n",
       "      <th>Instances_Above_Mean</th>\n",
       "    </tr>\n",
       "  </thead>\n",
       "  <tbody>\n",
       "    <tr>\n",
       "      <th>0</th>\n",
       "      <td>ALDE 2024</td>\n",
       "      <td>118</td>\n",
       "    </tr>\n",
       "    <tr>\n",
       "      <th>1</th>\n",
       "      <td>ALDE 2024 #2</td>\n",
       "      <td>267</td>\n",
       "    </tr>\n",
       "    <tr>\n",
       "      <th>2</th>\n",
       "      <td>BetterOn Going Custom</td>\n",
       "      <td>4</td>\n",
       "    </tr>\n",
       "    <tr>\n",
       "      <th>3</th>\n",
       "      <td>BetterOn Your Own</td>\n",
       "      <td>146</td>\n",
       "    </tr>\n",
       "    <tr>\n",
       "      <th>4</th>\n",
       "      <td>BetterOn for Interviews</td>\n",
       "      <td>2</td>\n",
       "    </tr>\n",
       "    <tr>\n",
       "      <th>5</th>\n",
       "      <td>CTO's '24-'25</td>\n",
       "      <td>33</td>\n",
       "    </tr>\n",
       "    <tr>\n",
       "      <th>6</th>\n",
       "      <td>Corporate Academy September '24</td>\n",
       "      <td>354</td>\n",
       "    </tr>\n",
       "    <tr>\n",
       "      <th>7</th>\n",
       "      <td>DELD 2023</td>\n",
       "      <td>134</td>\n",
       "    </tr>\n",
       "    <tr>\n",
       "      <th>8</th>\n",
       "      <td>ELA 2023</td>\n",
       "      <td>332</td>\n",
       "    </tr>\n",
       "    <tr>\n",
       "      <th>9</th>\n",
       "      <td>Executive Presence Studio</td>\n",
       "      <td>335</td>\n",
       "    </tr>\n",
       "    <tr>\n",
       "      <th>10</th>\n",
       "      <td>Executive Presence Studio - Feb '25</td>\n",
       "      <td>15</td>\n",
       "    </tr>\n",
       "    <tr>\n",
       "      <th>11</th>\n",
       "      <td>February 2024</td>\n",
       "      <td>778</td>\n",
       "    </tr>\n",
       "    <tr>\n",
       "      <th>12</th>\n",
       "      <td>February/March 2025</td>\n",
       "      <td>34</td>\n",
       "    </tr>\n",
       "    <tr>\n",
       "      <th>13</th>\n",
       "      <td>Greenhouse Presence Bootcamp</td>\n",
       "      <td>194</td>\n",
       "    </tr>\n",
       "    <tr>\n",
       "      <th>14</th>\n",
       "      <td>June 2024</td>\n",
       "      <td>764</td>\n",
       "    </tr>\n",
       "    <tr>\n",
       "      <th>15</th>\n",
       "      <td>June 2024 Pilot</td>\n",
       "      <td>71</td>\n",
       "    </tr>\n",
       "    <tr>\n",
       "      <th>16</th>\n",
       "      <td>New Recorder Cohort</td>\n",
       "      <td>7</td>\n",
       "    </tr>\n",
       "    <tr>\n",
       "      <th>17</th>\n",
       "      <td>RTP Authentic Presence Training</td>\n",
       "      <td>3</td>\n",
       "    </tr>\n",
       "    <tr>\n",
       "      <th>18</th>\n",
       "      <td>Red Hat Cloud Partners Team</td>\n",
       "      <td>157</td>\n",
       "    </tr>\n",
       "    <tr>\n",
       "      <th>19</th>\n",
       "      <td>Session 1</td>\n",
       "      <td>11</td>\n",
       "    </tr>\n",
       "  </tbody>\n",
       "</table>\n",
       "</div>"
      ],
      "text/plain": [
       "                               Category  Instances_Above_Mean\n",
       "0                             ALDE 2024                   118\n",
       "1                          ALDE 2024 #2                   267\n",
       "2                 BetterOn Going Custom                     4\n",
       "3                     BetterOn Your Own                   146\n",
       "4               BetterOn for Interviews                     2\n",
       "5                         CTO's '24-'25                    33\n",
       "6       Corporate Academy September '24                   354\n",
       "7                             DELD 2023                   134\n",
       "8                             ELA 2023                    332\n",
       "9             Executive Presence Studio                   335\n",
       "10  Executive Presence Studio - Feb '25                    15\n",
       "11                        February 2024                   778\n",
       "12                  February/March 2025                    34\n",
       "13         Greenhouse Presence Bootcamp                   194\n",
       "14                            June 2024                   764\n",
       "15                      June 2024 Pilot                    71\n",
       "16                  New Recorder Cohort                     7\n",
       "17      RTP Authentic Presence Training                     3\n",
       "18         Red Hat Cloud Partners Team                    157\n",
       "19                            Session 1                    11"
      ]
     },
     "execution_count": 32,
     "metadata": {},
     "output_type": "execute_result"
    }
   ],
   "source": [
    "#View how many people outperform the mean take time for each cohort\n",
    "df_takes[\"abovemean\"] = df_takes.apply(lambda row: row[\"Take Length\"] > mean_by_cohort[row[\"Cohort\"]], axis=1)\n",
    "df_takes[\"abovemean\"] = df_takes[\"abovemean\"].astype(int)\n",
    "result_table = df_takes.groupby(\"Cohort\", as_index=False)[\"abovemean\"].sum()\n",
    "result_table.columns = [\"Category\", \"Instances_Above_Mean\"]\n",
    "result_table"
   ]
  },
  {
   "cell_type": "code",
   "execution_count": 34,
   "id": "c8dd4612-bed0-4fba-8a5d-9cbf31473216",
   "metadata": {},
   "outputs": [
    {
     "name": "stdout",
     "output_type": "stream",
     "text": [
      "Participant\n",
      "diego.rodrigues@automattic.com    74\n",
      "chi-hsuan.huang@automattic.com    72\n",
      "jirka.malina@automattic.com       66\n",
      "seiji.hara@automattic.com         63\n",
      "ariel.maidana@automattic.com      53\n",
      "                                  ..\n",
      "lrh030121@gmail.com                1\n",
      "ab1043@duke.edu                    1\n",
      "christian.pile365@gmail.com        1\n",
      "natekzucker@gmail.com              1\n",
      "rdesai@us.ibm.com                  1\n",
      "Name: count, Length: 362, dtype: int64\n"
     ]
    }
   ],
   "source": [
    "#Why watch so many NAs for activity? one thing could be finding the value of activity, highest cumulative\n",
    "#score of take length, activity, and # of occurrences in watch? We could weigh those variables based on\n",
    "#how critical each value is at representing engagement\n",
    "\n",
    "names = df_watch[\"Participant\"].unique()\n",
    "len(names) #only 363 names for almost 7000 observations\n",
    "participant_counts = df_watch[\"Participant\"].value_counts()\n",
    "print(participant_counts)"
   ]
  },
  {
   "cell_type": "code",
   "execution_count": 36,
   "id": "f5b6f7e9-dc1c-4167-b36a-bce5a935d6f9",
   "metadata": {},
   "outputs": [
    {
     "name": "stdout",
     "output_type": "stream",
     "text": [
      "                                            Question  Mean Score\n",
      "0   It’s easy for me to get into the headspace I ...    3.201646\n",
      "1            Recording video empowers me personally.    3.522634\n",
      "2        Recording video empowers me professionally.    3.559671\n",
      "3       I am familiar with the power of my presence.    3.555556\n",
      "4  I can easily shift from my “on camera me” to m...    3.111732\n"
     ]
    },
    {
     "name": "stderr",
     "output_type": "stream",
     "text": [
      "/var/folders/1w/hq9s5gxs7gs8czfbrbsb7nqc0000gn/T/ipykernel_38964/1205565710.py:11: FutureWarning: Downcasting object dtype arrays on .fillna, .ffill, .bfill is deprecated and will change in a future version. Call result.infer_objects(copy=False) instead. To opt-in to the future behavior, set `pd.set_option('future.no_silent_downcasting', True)`\n",
      "  df_post[column] = df_post[column].map(response_mapping).fillna(df_post[column])\n"
     ]
    }
   ],
   "source": [
    "# Define a mapping from text responses to numerical values\n",
    "response_mapping = {\n",
    "    \"1 - Not so much.\": 1,\n",
    "    \"2- Somewhat.\": 2,\n",
    "    \"3 - Pretty familiar\": 3,\n",
    "    \"4 - Absolutely!\": 4\n",
    "}\n",
    "\n",
    "# Apply the mapping to the relevant columns\n",
    "for column in df_post.columns:\n",
    "    df_post[column] = df_post[column].map(response_mapping).fillna(df_post[column])\n",
    "\n",
    "# Initialize a dictionary to store mean scores\n",
    "mean_scores = {}\n",
    "\n",
    "# Calculate the mean score for each question using a for loop\n",
    "for column in df_post.columns:\n",
    "    if df_post[column].dtype in ['int64', 'float64']:\n",
    "        mean_scores[column] = df_post[column].mean()\n",
    "\n",
    "# Display the mean scores in a simple table\n",
    "mean_scores_table = pd.DataFrame(list(mean_scores.items()), columns=['Question', 'Mean Score'])\n",
    "print(mean_scores_table)"
   ]
  },
  {
   "cell_type": "code",
   "execution_count": 38,
   "id": "cfcd18c1-39ec-46f0-9890-e4e189431f40",
   "metadata": {},
   "outputs": [
    {
     "name": "stdout",
     "output_type": "stream",
     "text": [
      "                                Question  Mean Score\n",
      "0  Connect to my audience when recording    1.847118\n",
      "1           Elicit a variety of emotions    1.989924\n",
      "2                 Empowers me personally    2.103015\n",
      "3             Empowers me professionally    2.190955\n",
      "4        Familiar with power of presence    2.137845\n"
     ]
    },
    {
     "name": "stderr",
     "output_type": "stream",
     "text": [
      "/var/folders/1w/hq9s5gxs7gs8czfbrbsb7nqc0000gn/T/ipykernel_38964/2956094236.py:11: FutureWarning: Downcasting object dtype arrays on .fillna, .ffill, .bfill is deprecated and will change in a future version. Call result.infer_objects(copy=False) instead. To opt-in to the future behavior, set `pd.set_option('future.no_silent_downcasting', True)`\n",
      "  df_intake[column] = df_intake[column].map(response_mapping).fillna(df_intake[column])\n",
      "/var/folders/1w/hq9s5gxs7gs8czfbrbsb7nqc0000gn/T/ipykernel_38964/2956094236.py:11: FutureWarning: Downcasting object dtype arrays on .fillna, .ffill, .bfill is deprecated and will change in a future version. Call result.infer_objects(copy=False) instead. To opt-in to the future behavior, set `pd.set_option('future.no_silent_downcasting', True)`\n",
      "  df_intake[column] = df_intake[column].map(response_mapping).fillna(df_intake[column])\n",
      "/var/folders/1w/hq9s5gxs7gs8czfbrbsb7nqc0000gn/T/ipykernel_38964/2956094236.py:11: FutureWarning: Downcasting object dtype arrays on .fillna, .ffill, .bfill is deprecated and will change in a future version. Call result.infer_objects(copy=False) instead. To opt-in to the future behavior, set `pd.set_option('future.no_silent_downcasting', True)`\n",
      "  df_intake[column] = df_intake[column].map(response_mapping).fillna(df_intake[column])\n",
      "/var/folders/1w/hq9s5gxs7gs8czfbrbsb7nqc0000gn/T/ipykernel_38964/2956094236.py:11: FutureWarning: Downcasting object dtype arrays on .fillna, .ffill, .bfill is deprecated and will change in a future version. Call result.infer_objects(copy=False) instead. To opt-in to the future behavior, set `pd.set_option('future.no_silent_downcasting', True)`\n",
      "  df_intake[column] = df_intake[column].map(response_mapping).fillna(df_intake[column])\n",
      "/var/folders/1w/hq9s5gxs7gs8czfbrbsb7nqc0000gn/T/ipykernel_38964/2956094236.py:11: FutureWarning: Downcasting object dtype arrays on .fillna, .ffill, .bfill is deprecated and will change in a future version. Call result.infer_objects(copy=False) instead. To opt-in to the future behavior, set `pd.set_option('future.no_silent_downcasting', True)`\n",
      "  df_intake[column] = df_intake[column].map(response_mapping).fillna(df_intake[column])\n"
     ]
    }
   ],
   "source": [
    "# Define a mapping from text responses to numerical values\n",
    "response_mapping = {\n",
    "    \"1 - Not so much.\": 1,\n",
    "    \"2- Somewhat.\": 2,\n",
    "    \"3 - Pretty familiar\": 3,\n",
    "    \"4 - Absolutely!\": 4\n",
    "}\n",
    "\n",
    "# Apply the mapping to the relevant columns\n",
    "for column in df_intake.columns:\n",
    "    df_intake[column] = df_intake[column].map(response_mapping).fillna(df_intake[column])\n",
    "\n",
    "# Initialize a dictionary to store mean scores\n",
    "mean_scores = {}\n",
    "\n",
    "# Calculate the mean score for each question using a for loop\n",
    "for column in df_intake.columns:\n",
    "    if df_intake[column].dtype in ['int64', 'float64']:\n",
    "        mean_scores[column] = df_intake[column].mean()\n",
    "\n",
    "# Display the mean scores in a simple table\n",
    "mean_scores_table = pd.DataFrame(list(mean_scores.items()), columns=['Question', 'Mean Score'])\n",
    "print(mean_scores_table)"
   ]
  },
  {
   "cell_type": "code",
   "execution_count": null,
   "id": "eb2b8cbb-4a6e-4eb5-a627-1c6af15162cc",
   "metadata": {},
   "outputs": [],
   "source": []
  }
 ],
 "metadata": {
  "kernelspec": {
   "display_name": "Python [conda env:base] *",
   "language": "python",
   "name": "conda-base-py"
  },
  "language_info": {
   "codemirror_mode": {
    "name": "ipython",
    "version": 3
   },
   "file_extension": ".py",
   "mimetype": "text/x-python",
   "name": "python",
   "nbconvert_exporter": "python",
   "pygments_lexer": "ipython3",
   "version": "3.12.7"
  }
 },
 "nbformat": 4,
 "nbformat_minor": 5
}
