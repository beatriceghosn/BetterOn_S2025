{
 "cells": [
  {
   "cell_type": "code",
   "execution_count": 19,
   "id": "b6063a7f-f436-4680-be01-c6246e34673b",
   "metadata": {},
   "outputs": [
    {
     "name": "stdout",
     "output_type": "stream",
     "text": [
      "          Creation Date                      User       Modified Date  \\\n",
      "0   2023-06-05 17:55:00  dany.hong@automattic.com 2024-05-03 10:50:00   \n",
      "1   2023-06-05 18:05:00  dany.hong@automattic.com 2024-05-03 10:50:00   \n",
      "2   2023-06-05 18:09:00  dany.hong@automattic.com 2024-05-03 10:50:00   \n",
      "3   2023-06-05 18:10:00  dany.hong@automattic.com 2024-05-03 10:50:00   \n",
      "4   2023-06-05 18:17:00  dany.hong@automattic.com 2024-05-03 10:50:00   \n",
      "..                  ...                       ...                 ...   \n",
      "995 2023-09-26 07:10:00       kverlaen@redhat.com 2024-05-01 14:04:00   \n",
      "996 2023-09-26 07:17:00       kverlaen@redhat.com 2024-05-01 14:04:00   \n",
      "997 2023-09-26 07:27:00       kverlaen@redhat.com 2024-05-01 14:04:00   \n",
      "998 2023-09-26 07:32:00       kverlaen@redhat.com 2024-05-01 14:04:00   \n",
      "999 2023-09-26 07:35:00       kverlaen@redhat.com 2024-05-01 14:04:00   \n",
      "\n",
      "           Time Spent  \n",
      "0   332 days 16:55:00  \n",
      "1   332 days 16:45:00  \n",
      "2   332 days 16:41:00  \n",
      "3   332 days 16:40:00  \n",
      "4   332 days 16:33:00  \n",
      "..                ...  \n",
      "995 218 days 06:54:00  \n",
      "996 218 days 06:47:00  \n",
      "997 218 days 06:37:00  \n",
      "998 218 days 06:32:00  \n",
      "999 218 days 06:29:00  \n",
      "\n",
      "[1000 rows x 4 columns]\n"
     ]
    }
   ],
   "source": [
    "#Taking difference in times to determine ranking\n",
    "import pandas as pd\n",
    "\n",
    "\n",
    "df = pd.read_csv(\"../Data/Takes_Feb25.csv\") \n",
    "df = df[2000:]\n",
    "# Define date format\n",
    "date_format = \"%b %d, %Y %I:%M %p\"\n",
    "\n",
    "# Convert \"Creation Date\" and \"Modified Date\" to datetime\n",
    "df[\"Creation Date\"] = pd.to_datetime(df[\"Creation Date\"], format=date_format)\n",
    "df[\"Modified Date\"] = pd.to_datetime(df[\"Modified Date\"], format=date_format)\n",
    "\n",
    "# Calculate time spent\n",
    "df[\"Time Spent\"] = df[\"Modified Date\"] - df[\"Creation Date\"]\n",
    "\n",
    "# Sort by time spent in descending order\n",
    "df = df.sort_values(by=\"Time Spent\", ascending=False)\n",
    "\n",
    "\n",
    "df = df.reset_index(drop=True)\n",
    "\n",
    "\n",
    "print(df[[\"Creation Date\", \"User\", \"Modified Date\", \"Time Spent\"]].head(1000))"
   ]
  },
  {
   "cell_type": "code",
   "execution_count": 13,
   "id": "3a1f4a75-d7e1-4fa2-91ba-fe1ac97fbf01",
   "metadata": {},
   "outputs": [
    {
     "name": "stdout",
     "output_type": "stream",
     "text": [
      "             Creation Date          Modified Date  Take Length  Submit Video  \\\n",
      "0     Oct 30, 2023 2:20 pm   May 2, 2024 10:07 am        816.0           0.0   \n",
      "1     Oct 30, 2023 2:51 pm   May 2, 2024 10:07 am        725.0           0.0   \n",
      "2     Feb 12, 2024 4:38 pm    May 2, 2024 4:00 pm        610.0           0.0   \n",
      "3    May 23, 2024 11:00 am  May 30, 2024 11:15 am        583.0           0.0   \n",
      "4     Apr 15, 2024 5:45 pm   Apr 15, 2024 5:45 pm        560.0           0.0   \n",
      "..                     ...                    ...          ...           ...   \n",
      "995   Feb 22, 2024 9:29 pm  Apr 16, 2024 10:28 am        131.0           0.0   \n",
      "996   Jun 25, 2024 4:17 am   Jun 25, 2024 4:18 am        131.0           0.0   \n",
      "997    Feb 9, 2024 9:35 pm    May 3, 2024 3:33 pm        131.0           0.0   \n",
      "998   Oct 17, 2023 5:35 pm    May 2, 2024 3:34 pm        131.0           0.0   \n",
      "999   Nov 11, 2024 6:34 am   Nov 11, 2024 6:35 am        131.0           0.0   \n",
      "\n",
      "     Weighted Score                         User  \n",
      "0          0.700000          dramseur@redhat.com  \n",
      "1          0.621936          dramseur@redhat.com  \n",
      "2          0.523284             bretm@redhat.com  \n",
      "3          0.500123      martensreilly@gmail.com  \n",
      "4          0.480392       chsanders@deloitte.com  \n",
      "..              ...                          ...  \n",
      "995        0.112377          viwisema@redhat.com  \n",
      "996        0.112377  sudeep.baral@automattic.com  \n",
      "997        0.112377    amar.singh@automattic.com  \n",
      "998        0.112377          mlindsey@redhat.com  \n",
      "999        0.112377            adatar@redhat.com  \n",
      "\n",
      "[1000 rows x 6 columns]\n"
     ]
    }
   ],
   "source": [
    " #For the formula weighting\n",
    "import pandas as pd\n",
    "\n",
    "\n",
    "df = pd.read_csv(\"../Data/Takes_Feb25.csv\") \n",
    "\n",
    "# Convert \"Submit Video\" to numeric (Yes = 1, No = 0, missing = assume No)\n",
    "df[\"Submit Video\"] = df[\"Submit Video\"].map({\"Yes\": 1, \"No\": 0}).fillna(0)\n",
    "\n",
    "# Ensure \"Take Length\" is numeric and fill missing values with 0\n",
    "df[\"Take Length\"] = pd.to_numeric(df[\"Take Length\"], errors=\"coerce\").fillna(0)\n",
    "\n",
    "# Manually normalize \"Take Length\"\n",
    "min_val = df[\"Take Length\"].min()\n",
    "max_val = df[\"Take Length\"].max()\n",
    "df[\"Take Length Normalized\"] = (df[\"Take Length\"] - min_val) / (max_val - min_val) if max_val > min_val else 0\n",
    "\n",
    "# Compute weighted score\n",
    "df[\"Weighted Score\"] = (0.7 * df[\"Take Length Normalized\"]) + (0.3 * df[\"Submit Video\"])\n",
    "\n",
    "# Rank by weighted score in descending order\n",
    "df = df.sort_values(by=\"Weighted Score\", ascending=False).reset_index(drop=True)\n",
    "\n",
    "print(df[[\"Creation Date\", \"Modified Date\", \"Take Length\", \"Submit Video\", \"Weighted Score\", \"User\"]].head(1000))"
   ]
  },
  {
   "cell_type": "code",
   "execution_count": null,
   "id": "d73927e2-9029-4f1c-8dac-4b0bdf18eeaf",
   "metadata": {},
   "outputs": [],
   "source": []
  }
 ],
 "metadata": {
  "kernelspec": {
   "display_name": "Python [conda env:base] *",
   "language": "python",
   "name": "conda-base-py"
  },
  "language_info": {
   "codemirror_mode": {
    "name": "ipython",
    "version": 3
   },
   "file_extension": ".py",
   "mimetype": "text/x-python",
   "name": "python",
   "nbconvert_exporter": "python",
   "pygments_lexer": "ipython3",
   "version": "3.12.7"
  }
 },
 "nbformat": 4,
 "nbformat_minor": 5
}
